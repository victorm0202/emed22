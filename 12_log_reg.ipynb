{
  "cells": [
    {
      "cell_type": "markdown",
      "metadata": {
        "id": "view-in-github",
        "colab_type": "text"
      },
      "source": [
        "<a href=\"https://colab.research.google.com/github/victorm0202/emed22/blob/main/12_log_reg.ipynb\" target=\"_parent\"><img src=\"https://colab.research.google.com/assets/colab-badge.svg\" alt=\"Open In Colab\"/></a>"
      ]
    },
    {
      "cell_type": "markdown",
      "metadata": {
        "id": "QFS38eXSX8Lp"
      },
      "source": [
        "<img src=\"figs/logocimat.png\" height=\"20%\" width=\"20%\"  align=\"center\"/>\n",
        "\n",
        "# <center> Ciencia de Datos<center>\n",
        "\n",
        "<center> Víctor Muñiz Sánchez <center>\n",
        "<center> Maestría en Cómputo Estadístico <center>\n",
        "<center> Enero a junio 2022 <center>"
      ]
    },
    {
      "cell_type": "markdown",
      "metadata": {
        "id": "q5cF5p1OX8Ls"
      },
      "source": [
        "# Logistic Regression "
      ]
    },
    {
      "cell_type": "code",
      "execution_count": null,
      "metadata": {
        "id": "vjLJy4fvX8Lt"
      },
      "outputs": [],
      "source": [
        "import numpy as np\n",
        "import pandas as pd\n",
        "from scipy import stats\n",
        "import matplotlib.pyplot as plt\n",
        "import seaborn as sns\n",
        "import statsmodels.api as sm\n",
        "from statsmodels.formula.api import logit\n",
        "from sklearn.linear_model import LogisticRegression\n",
        "from sklearn.model_selection import train_test_split\n",
        "from sklearn import metrics\n",
        "# por esta ocasion, no pongo las graficas inline, para poder mostrarlas en un slide aparte...\n",
        "#%matplotlib inline\n",
        "plt.ioff() # pongo Interactive Mode Off\n",
        "plt.style.use('seaborn') "
      ]
    },
    {
      "cell_type": "markdown",
      "metadata": {
        "id": "gVMEOQ1uX8Lu"
      },
      "source": [
        "## Los datos"
      ]
    },
    {
      "cell_type": "code",
      "execution_count": null,
      "metadata": {
        "id": "U2rrfuE_X8Lv",
        "outputId": "c070bd2d-aeaf-414a-e41a-bf1266d1f01e"
      },
      "outputs": [
        {
          "name": "stdout",
          "output_type": "stream",
          "text": [
            "\n",
            "Fair, Ray. 1978. \"A Theory of Extramarital Affairs,\" `Journal of Political\n",
            "Economy`, February, 45-61.\n",
            "\n",
            "The data is available at http://fairmodel.econ.yale.edu/rayfair/pdf/2011b.htm\n",
            "\n"
          ]
        }
      ],
      "source": [
        "print(sm.datasets.fair.SOURCE)"
      ]
    },
    {
      "cell_type": "code",
      "execution_count": null,
      "metadata": {
        "id": "fezV5Bz6X8Lv",
        "outputId": "6fb7f6f4-a86d-4d96-87bc-78966805e72c"
      },
      "outputs": [
        {
          "name": "stdout",
          "output_type": "stream",
          "text": [
            "::\n",
            "\n",
            "    Number of observations: 6366\n",
            "    Number of variables: 9\n",
            "    Variable name definitions:\n",
            "\n",
            "        rate_marriage   : How rate marriage, 1 = very poor, 2 = poor, 3 = fair,\n",
            "                        4 = good, 5 = very good\n",
            "        age             : Age\n",
            "        yrs_married     : No. years married. Interval approximations. See\n",
            "                        original paper for detailed explanation.\n",
            "        children        : No. children\n",
            "        religious       : How relgious, 1 = not, 2 = mildly, 3 = fairly,\n",
            "                        4 = strongly\n",
            "        educ            : Level of education, 9 = grade school, 12 = high\n",
            "                        school, 14 = some college, 16 = college graduate,\n",
            "                        17 = some graduate school, 20 = advanced degree\n",
            "        occupation      : 1 = student, 2 = farming, agriculture; semi-skilled,\n",
            "                        or unskilled worker; 3 = white-colloar; 4 = teacher\n",
            "                        counselor social worker, nurse; artist, writers;\n",
            "                        technician, skilled worker, 5 = managerial,\n",
            "                        administrative, business, 6 = professional with\n",
            "                        advanced degree\n",
            "        occupation_husb : Husband's occupation. Same as occupation.\n",
            "        affairs         : measure of time spent in extramarital affairs\n",
            "\n",
            "    See the original paper for more details.\n",
            "\n"
          ]
        }
      ],
      "source": [
        "print( sm.datasets.fair.NOTE)"
      ]
    },
    {
      "cell_type": "code",
      "execution_count": null,
      "metadata": {
        "id": "28J_PC4VX8Lw",
        "outputId": "b6d67f6b-cf93-4403-c2bd-d65bdd5fb374"
      },
      "outputs": [
        {
          "data": {
            "text/html": [
              "<div>\n",
              "<style scoped>\n",
              "    .dataframe tbody tr th:only-of-type {\n",
              "        vertical-align: middle;\n",
              "    }\n",
              "\n",
              "    .dataframe tbody tr th {\n",
              "        vertical-align: top;\n",
              "    }\n",
              "\n",
              "    .dataframe thead th {\n",
              "        text-align: right;\n",
              "    }\n",
              "</style>\n",
              "<table border=\"1\" class=\"dataframe\">\n",
              "  <thead>\n",
              "    <tr style=\"text-align: right;\">\n",
              "      <th></th>\n",
              "      <th>rate_marriage</th>\n",
              "      <th>age</th>\n",
              "      <th>yrs_married</th>\n",
              "      <th>children</th>\n",
              "      <th>religious</th>\n",
              "      <th>educ</th>\n",
              "      <th>occupation</th>\n",
              "      <th>occupation_husb</th>\n",
              "      <th>affairs</th>\n",
              "    </tr>\n",
              "  </thead>\n",
              "  <tbody>\n",
              "    <tr>\n",
              "      <th>0</th>\n",
              "      <td>3.0</td>\n",
              "      <td>32.0</td>\n",
              "      <td>9.0</td>\n",
              "      <td>3.0</td>\n",
              "      <td>3.0</td>\n",
              "      <td>17.0</td>\n",
              "      <td>2.0</td>\n",
              "      <td>5.0</td>\n",
              "      <td>0.111111</td>\n",
              "    </tr>\n",
              "    <tr>\n",
              "      <th>1</th>\n",
              "      <td>3.0</td>\n",
              "      <td>27.0</td>\n",
              "      <td>13.0</td>\n",
              "      <td>3.0</td>\n",
              "      <td>1.0</td>\n",
              "      <td>14.0</td>\n",
              "      <td>3.0</td>\n",
              "      <td>4.0</td>\n",
              "      <td>3.230769</td>\n",
              "    </tr>\n",
              "    <tr>\n",
              "      <th>2</th>\n",
              "      <td>4.0</td>\n",
              "      <td>22.0</td>\n",
              "      <td>2.5</td>\n",
              "      <td>0.0</td>\n",
              "      <td>1.0</td>\n",
              "      <td>16.0</td>\n",
              "      <td>3.0</td>\n",
              "      <td>5.0</td>\n",
              "      <td>1.400000</td>\n",
              "    </tr>\n",
              "    <tr>\n",
              "      <th>3</th>\n",
              "      <td>4.0</td>\n",
              "      <td>37.0</td>\n",
              "      <td>16.5</td>\n",
              "      <td>4.0</td>\n",
              "      <td>3.0</td>\n",
              "      <td>16.0</td>\n",
              "      <td>5.0</td>\n",
              "      <td>5.0</td>\n",
              "      <td>0.727273</td>\n",
              "    </tr>\n",
              "    <tr>\n",
              "      <th>4</th>\n",
              "      <td>5.0</td>\n",
              "      <td>27.0</td>\n",
              "      <td>9.0</td>\n",
              "      <td>1.0</td>\n",
              "      <td>1.0</td>\n",
              "      <td>14.0</td>\n",
              "      <td>3.0</td>\n",
              "      <td>4.0</td>\n",
              "      <td>4.666666</td>\n",
              "    </tr>\n",
              "    <tr>\n",
              "      <th>...</th>\n",
              "      <td>...</td>\n",
              "      <td>...</td>\n",
              "      <td>...</td>\n",
              "      <td>...</td>\n",
              "      <td>...</td>\n",
              "      <td>...</td>\n",
              "      <td>...</td>\n",
              "      <td>...</td>\n",
              "      <td>...</td>\n",
              "    </tr>\n",
              "    <tr>\n",
              "      <th>6361</th>\n",
              "      <td>5.0</td>\n",
              "      <td>32.0</td>\n",
              "      <td>13.0</td>\n",
              "      <td>2.0</td>\n",
              "      <td>3.0</td>\n",
              "      <td>17.0</td>\n",
              "      <td>4.0</td>\n",
              "      <td>3.0</td>\n",
              "      <td>0.000000</td>\n",
              "    </tr>\n",
              "    <tr>\n",
              "      <th>6362</th>\n",
              "      <td>4.0</td>\n",
              "      <td>32.0</td>\n",
              "      <td>13.0</td>\n",
              "      <td>1.0</td>\n",
              "      <td>1.0</td>\n",
              "      <td>16.0</td>\n",
              "      <td>5.0</td>\n",
              "      <td>5.0</td>\n",
              "      <td>0.000000</td>\n",
              "    </tr>\n",
              "    <tr>\n",
              "      <th>6363</th>\n",
              "      <td>5.0</td>\n",
              "      <td>22.0</td>\n",
              "      <td>2.5</td>\n",
              "      <td>0.0</td>\n",
              "      <td>2.0</td>\n",
              "      <td>14.0</td>\n",
              "      <td>3.0</td>\n",
              "      <td>1.0</td>\n",
              "      <td>0.000000</td>\n",
              "    </tr>\n",
              "    <tr>\n",
              "      <th>6364</th>\n",
              "      <td>5.0</td>\n",
              "      <td>32.0</td>\n",
              "      <td>6.0</td>\n",
              "      <td>1.0</td>\n",
              "      <td>3.0</td>\n",
              "      <td>14.0</td>\n",
              "      <td>3.0</td>\n",
              "      <td>4.0</td>\n",
              "      <td>0.000000</td>\n",
              "    </tr>\n",
              "    <tr>\n",
              "      <th>6365</th>\n",
              "      <td>4.0</td>\n",
              "      <td>22.0</td>\n",
              "      <td>2.5</td>\n",
              "      <td>0.0</td>\n",
              "      <td>2.0</td>\n",
              "      <td>16.0</td>\n",
              "      <td>2.0</td>\n",
              "      <td>4.0</td>\n",
              "      <td>0.000000</td>\n",
              "    </tr>\n",
              "  </tbody>\n",
              "</table>\n",
              "<p>6366 rows × 9 columns</p>\n",
              "</div>"
            ],
            "text/plain": [
              "      rate_marriage   age  yrs_married  children  religious  educ  occupation  \\\n",
              "0               3.0  32.0          9.0       3.0        3.0  17.0         2.0   \n",
              "1               3.0  27.0         13.0       3.0        1.0  14.0         3.0   \n",
              "2               4.0  22.0          2.5       0.0        1.0  16.0         3.0   \n",
              "3               4.0  37.0         16.5       4.0        3.0  16.0         5.0   \n",
              "4               5.0  27.0          9.0       1.0        1.0  14.0         3.0   \n",
              "...             ...   ...          ...       ...        ...   ...         ...   \n",
              "6361            5.0  32.0         13.0       2.0        3.0  17.0         4.0   \n",
              "6362            4.0  32.0         13.0       1.0        1.0  16.0         5.0   \n",
              "6363            5.0  22.0          2.5       0.0        2.0  14.0         3.0   \n",
              "6364            5.0  32.0          6.0       1.0        3.0  14.0         3.0   \n",
              "6365            4.0  22.0          2.5       0.0        2.0  16.0         2.0   \n",
              "\n",
              "      occupation_husb   affairs  \n",
              "0                 5.0  0.111111  \n",
              "1                 4.0  3.230769  \n",
              "2                 5.0  1.400000  \n",
              "3                 5.0  0.727273  \n",
              "4                 4.0  4.666666  \n",
              "...               ...       ...  \n",
              "6361              3.0  0.000000  \n",
              "6362              5.0  0.000000  \n",
              "6363              1.0  0.000000  \n",
              "6364              4.0  0.000000  \n",
              "6365              4.0  0.000000  \n",
              "\n",
              "[6366 rows x 9 columns]"
            ]
          },
          "execution_count": 4,
          "metadata": {},
          "output_type": "execute_result"
        }
      ],
      "source": [
        "dta = sm.datasets.fair.load_pandas().data\n",
        "dta"
      ]
    },
    {
      "cell_type": "code",
      "execution_count": null,
      "metadata": {
        "id": "7M6Me8i7X8Lw",
        "outputId": "f02f586e-6941-43d6-c8fe-4e17323bde86"
      },
      "outputs": [
        {
          "name": "stdout",
          "output_type": "stream",
          "text": [
            "       rate_marriage          age  yrs_married     children    religious  \\\n",
            "count    6366.000000  6366.000000  6366.000000  6366.000000  6366.000000   \n",
            "mean        4.109645    29.082862     9.009425     1.396874     2.426170   \n",
            "std         0.961430     6.847882     7.280120     1.433471     0.878369   \n",
            "min         1.000000    17.500000     0.500000     0.000000     1.000000   \n",
            "25%         4.000000    22.000000     2.500000     0.000000     2.000000   \n",
            "50%         4.000000    27.000000     6.000000     1.000000     2.000000   \n",
            "75%         5.000000    32.000000    16.500000     2.000000     3.000000   \n",
            "max         5.000000    42.000000    23.000000     5.500000     4.000000   \n",
            "\n",
            "              educ   occupation  occupation_husb      affairs  \n",
            "count  6366.000000  6366.000000      6366.000000  6366.000000  \n",
            "mean     14.209865     3.424128         3.850141     0.705374  \n",
            "std       2.178003     0.942399         1.346435     2.203374  \n",
            "min       9.000000     1.000000         1.000000     0.000000  \n",
            "25%      12.000000     3.000000         3.000000     0.000000  \n",
            "50%      14.000000     3.000000         4.000000     0.000000  \n",
            "75%      16.000000     4.000000         5.000000     0.484848  \n",
            "max      20.000000     6.000000         6.000000    57.599991  \n"
          ]
        }
      ],
      "source": [
        "print(dta.describe())"
      ]
    },
    {
      "cell_type": "markdown",
      "metadata": {
        "id": "mgdtgrg5X8Lx"
      },
      "source": [
        "## Construimos la variable dependiente (binaria)"
      ]
    },
    {
      "cell_type": "code",
      "execution_count": null,
      "metadata": {
        "id": "o2k6M3fkX8Lx",
        "outputId": "c2ca6074-73b4-4a95-e017-6a8cea8ec669"
      },
      "outputs": [
        {
          "data": {
            "text/plain": [
              "0       1\n",
              "1       1\n",
              "2       1\n",
              "3       1\n",
              "4       1\n",
              "       ..\n",
              "6361    0\n",
              "6362    0\n",
              "6363    0\n",
              "6364    0\n",
              "6365    0\n",
              "Name: affair, Length: 6366, dtype: int64"
            ]
          },
          "execution_count": 5,
          "metadata": {},
          "output_type": "execute_result"
        }
      ],
      "source": [
        "dta['affair'] = (dta['affairs'] > 0).astype(int)\n",
        "dta['affair']"
      ]
    },
    {
      "cell_type": "code",
      "execution_count": null,
      "metadata": {
        "id": "NXlI7KYdX8Ly",
        "outputId": "7283655c-9208-482b-d7aa-e3dcb29e4392"
      },
      "outputs": [
        {
          "data": {
            "image/png": "[encoded data removed]",
            "text/plain": [
              "<Figure size 576x396 with 1 Axes>"
            ]
          },
          "metadata": {},
          "output_type": "display_data"
        }
      ],
      "source": [
        "sns.countplot(x='affair',data=dta, palette='hls')\n",
        "plt.show()"
      ]
    },
    {
      "cell_type": "code",
      "execution_count": null,
      "metadata": {
        "id": "vm7z9FMpX8Ly",
        "outputId": "0608e461-03e5-49e3-c15f-6bf9fa7b576e"
      },
      "outputs": [
        {
          "data": {
            "image/png": "[encoded data removed]",
            "text/plain": [
              "<Figure size 576x576 with 1 Axes>"
            ]
          },
          "metadata": {},
          "output_type": "display_data"
        }
      ],
      "source": [
        "sns.catplot(x=\"occupation\", y=\"affair\", data=dta, kind=\"bar\", height = 8)\n",
        "plt.show()"
      ]
    },
    {
      "cell_type": "markdown",
      "metadata": {
        "id": "yO5trNeGX8Ly"
      },
      "source": [
        "## El modelo de regresión logística\n",
        "\n",
        "Hacemos una decodificación (one-hot encoding) de las variables categóricas mediante variables `dummy`"
      ]
    },
    {
      "cell_type": "code",
      "execution_count": null,
      "metadata": {
        "id": "mLynmB3QX8Lz",
        "outputId": "61a9368c-39d0-4932-b2d4-6095bd873d01"
      },
      "outputs": [
        {
          "data": {
            "text/html": [
              "<div>\n",
              "<style scoped>\n",
              "    .dataframe tbody tr th:only-of-type {\n",
              "        vertical-align: middle;\n",
              "    }\n",
              "\n",
              "    .dataframe tbody tr th {\n",
              "        vertical-align: top;\n",
              "    }\n",
              "\n",
              "    .dataframe thead th {\n",
              "        text-align: right;\n",
              "    }\n",
              "</style>\n",
              "<table border=\"1\" class=\"dataframe\">\n",
              "  <thead>\n",
              "    <tr style=\"text-align: right;\">\n",
              "      <th></th>\n",
              "      <th>rate_marriage_2.0</th>\n",
              "      <th>rate_marriage_3.0</th>\n",
              "      <th>rate_marriage_4.0</th>\n",
              "      <th>rate_marriage_5.0</th>\n",
              "    </tr>\n",
              "  </thead>\n",
              "  <tbody>\n",
              "    <tr>\n",
              "      <th>0</th>\n",
              "      <td>0</td>\n",
              "      <td>1</td>\n",
              "      <td>0</td>\n",
              "      <td>0</td>\n",
              "    </tr>\n",
              "    <tr>\n",
              "      <th>1</th>\n",
              "      <td>0</td>\n",
              "      <td>1</td>\n",
              "      <td>0</td>\n",
              "      <td>0</td>\n",
              "    </tr>\n",
              "    <tr>\n",
              "      <th>2</th>\n",
              "      <td>0</td>\n",
              "      <td>0</td>\n",
              "      <td>1</td>\n",
              "      <td>0</td>\n",
              "    </tr>\n",
              "    <tr>\n",
              "      <th>3</th>\n",
              "      <td>0</td>\n",
              "      <td>0</td>\n",
              "      <td>1</td>\n",
              "      <td>0</td>\n",
              "    </tr>\n",
              "    <tr>\n",
              "      <th>4</th>\n",
              "      <td>0</td>\n",
              "      <td>0</td>\n",
              "      <td>0</td>\n",
              "      <td>1</td>\n",
              "    </tr>\n",
              "    <tr>\n",
              "      <th>...</th>\n",
              "      <td>...</td>\n",
              "      <td>...</td>\n",
              "      <td>...</td>\n",
              "      <td>...</td>\n",
              "    </tr>\n",
              "    <tr>\n",
              "      <th>6361</th>\n",
              "      <td>0</td>\n",
              "      <td>0</td>\n",
              "      <td>0</td>\n",
              "      <td>1</td>\n",
              "    </tr>\n",
              "    <tr>\n",
              "      <th>6362</th>\n",
              "      <td>0</td>\n",
              "      <td>0</td>\n",
              "      <td>1</td>\n",
              "      <td>0</td>\n",
              "    </tr>\n",
              "    <tr>\n",
              "      <th>6363</th>\n",
              "      <td>0</td>\n",
              "      <td>0</td>\n",
              "      <td>0</td>\n",
              "      <td>1</td>\n",
              "    </tr>\n",
              "    <tr>\n",
              "      <th>6364</th>\n",
              "      <td>0</td>\n",
              "      <td>0</td>\n",
              "      <td>0</td>\n",
              "      <td>1</td>\n",
              "    </tr>\n",
              "    <tr>\n",
              "      <th>6365</th>\n",
              "      <td>0</td>\n",
              "      <td>0</td>\n",
              "      <td>1</td>\n",
              "      <td>0</td>\n",
              "    </tr>\n",
              "  </tbody>\n",
              "</table>\n",
              "<p>6366 rows × 4 columns</p>\n",
              "</div>"
            ],
            "text/plain": [
              "      rate_marriage_2.0  rate_marriage_3.0  rate_marriage_4.0  \\\n",
              "0                     0                  1                  0   \n",
              "1                     0                  1                  0   \n",
              "2                     0                  0                  1   \n",
              "3                     0                  0                  1   \n",
              "4                     0                  0                  0   \n",
              "...                 ...                ...                ...   \n",
              "6361                  0                  0                  0   \n",
              "6362                  0                  0                  1   \n",
              "6363                  0                  0                  0   \n",
              "6364                  0                  0                  0   \n",
              "6365                  0                  0                  1   \n",
              "\n",
              "      rate_marriage_5.0  \n",
              "0                     0  \n",
              "1                     0  \n",
              "2                     0  \n",
              "3                     0  \n",
              "4                     1  \n",
              "...                 ...  \n",
              "6361                  1  \n",
              "6362                  0  \n",
              "6363                  1  \n",
              "6364                  1  \n",
              "6365                  0  \n",
              "\n",
              "[6366 rows x 4 columns]"
            ]
          },
          "execution_count": 8,
          "metadata": {},
          "output_type": "execute_result"
        }
      ],
      "source": [
        "data = dta\n",
        "cat_vars = ['rate_marriage', 'religious','educ', 'occupation', 'occupation_husb']\n",
        "\n",
        "# Una forma de hacerlo es mediante Pandas...\n",
        "cat_dummy = pd.get_dummies(data['rate_marriage'], prefix='rate_marriage', drop_first=True)\n",
        "cat_dummy"
      ]
    },
    {
      "cell_type": "markdown",
      "metadata": {
        "id": "mBmVcRFCX8Lz"
      },
      "source": [
        "Otra forma es mediante las estructuras de datos para modelos de `patsy`.\n",
        "\n",
        "Recomendable para modelos estadísticos donde se usan matrices de diseño"
      ]
    },
    {
      "cell_type": "code",
      "execution_count": null,
      "metadata": {
        "id": "Cg79Ik_YX8Lz"
      },
      "outputs": [],
      "source": [
        "from patsy import dmatrices\n",
        "\n",
        "data = dta\n",
        "cat_vars = ['rate_marriage', 'religious','educ', 'occupation', 'occupation_husb']\n",
        "\n",
        "y, X = dmatrices('affair ~ C(occupation) + C(educ) + C(occupation_husb)'\n",
        "                 '+ C(rate_marriage) + age + yrs_married + children'\n",
        "                 '+ C(religious)', data, return_type = 'dataframe')\n"
      ]
    },
    {
      "cell_type": "code",
      "execution_count": null,
      "metadata": {
        "id": "DMCa-Jg9X8L0",
        "outputId": "84b0e919-098e-4894-d6dc-c6089914670c"
      },
      "outputs": [
        {
          "data": {
            "text/html": [
              "<div>\n",
              "<style scoped>\n",
              "    .dataframe tbody tr th:only-of-type {\n",
              "        vertical-align: middle;\n",
              "    }\n",
              "\n",
              "    .dataframe tbody tr th {\n",
              "        vertical-align: top;\n",
              "    }\n",
              "\n",
              "    .dataframe thead th {\n",
              "        text-align: right;\n",
              "    }\n",
              "</style>\n",
              "<table border=\"1\" class=\"dataframe\">\n",
              "  <thead>\n",
              "    <tr style=\"text-align: right;\">\n",
              "      <th></th>\n",
              "      <th>Intercept</th>\n",
              "      <th>C(occupation)[T.2.0]</th>\n",
              "      <th>C(occupation)[T.3.0]</th>\n",
              "      <th>C(occupation)[T.4.0]</th>\n",
              "      <th>C(occupation)[T.5.0]</th>\n",
              "      <th>C(occupation)[T.6.0]</th>\n",
              "      <th>C(educ)[T.12.0]</th>\n",
              "      <th>C(educ)[T.14.0]</th>\n",
              "      <th>C(educ)[T.16.0]</th>\n",
              "      <th>C(educ)[T.17.0]</th>\n",
              "      <th>...</th>\n",
              "      <th>C(rate_marriage)[T.2.0]</th>\n",
              "      <th>C(rate_marriage)[T.3.0]</th>\n",
              "      <th>C(rate_marriage)[T.4.0]</th>\n",
              "      <th>C(rate_marriage)[T.5.0]</th>\n",
              "      <th>C(religious)[T.2.0]</th>\n",
              "      <th>C(religious)[T.3.0]</th>\n",
              "      <th>C(religious)[T.4.0]</th>\n",
              "      <th>age</th>\n",
              "      <th>yrs_married</th>\n",
              "      <th>children</th>\n",
              "    </tr>\n",
              "  </thead>\n",
              "  <tbody>\n",
              "    <tr>\n",
              "      <th>0</th>\n",
              "      <td>1.0</td>\n",
              "      <td>1.0</td>\n",
              "      <td>0.0</td>\n",
              "      <td>0.0</td>\n",
              "      <td>0.0</td>\n",
              "      <td>0.0</td>\n",
              "      <td>0.0</td>\n",
              "      <td>0.0</td>\n",
              "      <td>0.0</td>\n",
              "      <td>1.0</td>\n",
              "      <td>...</td>\n",
              "      <td>0.0</td>\n",
              "      <td>1.0</td>\n",
              "      <td>0.0</td>\n",
              "      <td>0.0</td>\n",
              "      <td>0.0</td>\n",
              "      <td>1.0</td>\n",
              "      <td>0.0</td>\n",
              "      <td>32.0</td>\n",
              "      <td>9.0</td>\n",
              "      <td>3.0</td>\n",
              "    </tr>\n",
              "    <tr>\n",
              "      <th>1</th>\n",
              "      <td>1.0</td>\n",
              "      <td>0.0</td>\n",
              "      <td>1.0</td>\n",
              "      <td>0.0</td>\n",
              "      <td>0.0</td>\n",
              "      <td>0.0</td>\n",
              "      <td>0.0</td>\n",
              "      <td>1.0</td>\n",
              "      <td>0.0</td>\n",
              "      <td>0.0</td>\n",
              "      <td>...</td>\n",
              "      <td>0.0</td>\n",
              "      <td>1.0</td>\n",
              "      <td>0.0</td>\n",
              "      <td>0.0</td>\n",
              "      <td>0.0</td>\n",
              "      <td>0.0</td>\n",
              "      <td>0.0</td>\n",
              "      <td>27.0</td>\n",
              "      <td>13.0</td>\n",
              "      <td>3.0</td>\n",
              "    </tr>\n",
              "    <tr>\n",
              "      <th>2</th>\n",
              "      <td>1.0</td>\n",
              "      <td>0.0</td>\n",
              "      <td>1.0</td>\n",
              "      <td>0.0</td>\n",
              "      <td>0.0</td>\n",
              "      <td>0.0</td>\n",
              "      <td>0.0</td>\n",
              "      <td>0.0</td>\n",
              "      <td>1.0</td>\n",
              "      <td>0.0</td>\n",
              "      <td>...</td>\n",
              "      <td>0.0</td>\n",
              "      <td>0.0</td>\n",
              "      <td>1.0</td>\n",
              "      <td>0.0</td>\n",
              "      <td>0.0</td>\n",
              "      <td>0.0</td>\n",
              "      <td>0.0</td>\n",
              "      <td>22.0</td>\n",
              "      <td>2.5</td>\n",
              "      <td>0.0</td>\n",
              "    </tr>\n",
              "    <tr>\n",
              "      <th>3</th>\n",
              "      <td>1.0</td>\n",
              "      <td>0.0</td>\n",
              "      <td>0.0</td>\n",
              "      <td>0.0</td>\n",
              "      <td>1.0</td>\n",
              "      <td>0.0</td>\n",
              "      <td>0.0</td>\n",
              "      <td>0.0</td>\n",
              "      <td>1.0</td>\n",
              "      <td>0.0</td>\n",
              "      <td>...</td>\n",
              "      <td>0.0</td>\n",
              "      <td>0.0</td>\n",
              "      <td>1.0</td>\n",
              "      <td>0.0</td>\n",
              "      <td>0.0</td>\n",
              "      <td>1.0</td>\n",
              "      <td>0.0</td>\n",
              "      <td>37.0</td>\n",
              "      <td>16.5</td>\n",
              "      <td>4.0</td>\n",
              "    </tr>\n",
              "    <tr>\n",
              "      <th>4</th>\n",
              "      <td>1.0</td>\n",
              "      <td>0.0</td>\n",
              "      <td>1.0</td>\n",
              "      <td>0.0</td>\n",
              "      <td>0.0</td>\n",
              "      <td>0.0</td>\n",
              "      <td>0.0</td>\n",
              "      <td>1.0</td>\n",
              "      <td>0.0</td>\n",
              "      <td>0.0</td>\n",
              "      <td>...</td>\n",
              "      <td>0.0</td>\n",
              "      <td>0.0</td>\n",
              "      <td>0.0</td>\n",
              "      <td>1.0</td>\n",
              "      <td>0.0</td>\n",
              "      <td>0.0</td>\n",
              "      <td>0.0</td>\n",
              "      <td>27.0</td>\n",
              "      <td>9.0</td>\n",
              "      <td>1.0</td>\n",
              "    </tr>\n",
              "    <tr>\n",
              "      <th>...</th>\n",
              "      <td>...</td>\n",
              "      <td>...</td>\n",
              "      <td>...</td>\n",
              "      <td>...</td>\n",
              "      <td>...</td>\n",
              "      <td>...</td>\n",
              "      <td>...</td>\n",
              "      <td>...</td>\n",
              "      <td>...</td>\n",
              "      <td>...</td>\n",
              "      <td>...</td>\n",
              "      <td>...</td>\n",
              "      <td>...</td>\n",
              "      <td>...</td>\n",
              "      <td>...</td>\n",
              "      <td>...</td>\n",
              "      <td>...</td>\n",
              "      <td>...</td>\n",
              "      <td>...</td>\n",
              "      <td>...</td>\n",
              "      <td>...</td>\n",
              "    </tr>\n",
              "    <tr>\n",
              "      <th>6361</th>\n",
              "      <td>1.0</td>\n",
              "      <td>0.0</td>\n",
              "      <td>0.0</td>\n",
              "      <td>1.0</td>\n",
              "      <td>0.0</td>\n",
              "      <td>0.0</td>\n",
              "      <td>0.0</td>\n",
              "      <td>0.0</td>\n",
              "      <td>0.0</td>\n",
              "      <td>1.0</td>\n",
              "      <td>...</td>\n",
              "      <td>0.0</td>\n",
              "      <td>0.0</td>\n",
              "      <td>0.0</td>\n",
              "      <td>1.0</td>\n",
              "      <td>0.0</td>\n",
              "      <td>1.0</td>\n",
              "      <td>0.0</td>\n",
              "      <td>32.0</td>\n",
              "      <td>13.0</td>\n",
              "      <td>2.0</td>\n",
              "    </tr>\n",
              "    <tr>\n",
              "      <th>6362</th>\n",
              "      <td>1.0</td>\n",
              "      <td>0.0</td>\n",
              "      <td>0.0</td>\n",
              "      <td>0.0</td>\n",
              "      <td>1.0</td>\n",
              "      <td>0.0</td>\n",
              "      <td>0.0</td>\n",
              "      <td>0.0</td>\n",
              "      <td>1.0</td>\n",
              "      <td>0.0</td>\n",
              "      <td>...</td>\n",
              "      <td>0.0</td>\n",
              "      <td>0.0</td>\n",
              "      <td>1.0</td>\n",
              "      <td>0.0</td>\n",
              "      <td>0.0</td>\n",
              "      <td>0.0</td>\n",
              "      <td>0.0</td>\n",
              "      <td>32.0</td>\n",
              "      <td>13.0</td>\n",
              "      <td>1.0</td>\n",
              "    </tr>\n",
              "    <tr>\n",
              "      <th>6363</th>\n",
              "      <td>1.0</td>\n",
              "      <td>0.0</td>\n",
              "      <td>1.0</td>\n",
              "      <td>0.0</td>\n",
              "      <td>0.0</td>\n",
              "      <td>0.0</td>\n",
              "      <td>0.0</td>\n",
              "      <td>1.0</td>\n",
              "      <td>0.0</td>\n",
              "      <td>0.0</td>\n",
              "      <td>...</td>\n",
              "      <td>0.0</td>\n",
              "      <td>0.0</td>\n",
              "      <td>0.0</td>\n",
              "      <td>1.0</td>\n",
              "      <td>1.0</td>\n",
              "      <td>0.0</td>\n",
              "      <td>0.0</td>\n",
              "      <td>22.0</td>\n",
              "      <td>2.5</td>\n",
              "      <td>0.0</td>\n",
              "    </tr>\n",
              "    <tr>\n",
              "      <th>6364</th>\n",
              "      <td>1.0</td>\n",
              "      <td>0.0</td>\n",
              "      <td>1.0</td>\n",
              "      <td>0.0</td>\n",
              "      <td>0.0</td>\n",
              "      <td>0.0</td>\n",
              "      <td>0.0</td>\n",
              "      <td>1.0</td>\n",
              "      <td>0.0</td>\n",
              "      <td>0.0</td>\n",
              "      <td>...</td>\n",
              "      <td>0.0</td>\n",
              "      <td>0.0</td>\n",
              "      <td>0.0</td>\n",
              "      <td>1.0</td>\n",
              "      <td>0.0</td>\n",
              "      <td>1.0</td>\n",
              "      <td>0.0</td>\n",
              "      <td>32.0</td>\n",
              "      <td>6.0</td>\n",
              "      <td>1.0</td>\n",
              "    </tr>\n",
              "    <tr>\n",
              "      <th>6365</th>\n",
              "      <td>1.0</td>\n",
              "      <td>1.0</td>\n",
              "      <td>0.0</td>\n",
              "      <td>0.0</td>\n",
              "      <td>0.0</td>\n",
              "      <td>0.0</td>\n",
              "      <td>0.0</td>\n",
              "      <td>0.0</td>\n",
              "      <td>1.0</td>\n",
              "      <td>0.0</td>\n",
              "      <td>...</td>\n",
              "      <td>0.0</td>\n",
              "      <td>0.0</td>\n",
              "      <td>1.0</td>\n",
              "      <td>0.0</td>\n",
              "      <td>1.0</td>\n",
              "      <td>0.0</td>\n",
              "      <td>0.0</td>\n",
              "      <td>22.0</td>\n",
              "      <td>2.5</td>\n",
              "      <td>0.0</td>\n",
              "    </tr>\n",
              "  </tbody>\n",
              "</table>\n",
              "<p>6366 rows × 26 columns</p>\n",
              "</div>"
            ],
            "text/plain": [
              "      Intercept  C(occupation)[T.2.0]  C(occupation)[T.3.0]  \\\n",
              "0           1.0                   1.0                   0.0   \n",
              "1           1.0                   0.0                   1.0   \n",
              "2           1.0                   0.0                   1.0   \n",
              "3           1.0                   0.0                   0.0   \n",
              "4           1.0                   0.0                   1.0   \n",
              "...         ...                   ...                   ...   \n",
              "6361        1.0                   0.0                   0.0   \n",
              "6362        1.0                   0.0                   0.0   \n",
              "6363        1.0                   0.0                   1.0   \n",
              "6364        1.0                   0.0                   1.0   \n",
              "6365        1.0                   1.0                   0.0   \n",
              "\n",
              "      C(occupation)[T.4.0]  C(occupation)[T.5.0]  C(occupation)[T.6.0]  \\\n",
              "0                      0.0                   0.0                   0.0   \n",
              "1                      0.0                   0.0                   0.0   \n",
              "2                      0.0                   0.0                   0.0   \n",
              "3                      0.0                   1.0                   0.0   \n",
              "4                      0.0                   0.0                   0.0   \n",
              "...                    ...                   ...                   ...   \n",
              "6361                   1.0                   0.0                   0.0   \n",
              "6362                   0.0                   1.0                   0.0   \n",
              "6363                   0.0                   0.0                   0.0   \n",
              "6364                   0.0                   0.0                   0.0   \n",
              "6365                   0.0                   0.0                   0.0   \n",
              "\n",
              "      C(educ)[T.12.0]  C(educ)[T.14.0]  C(educ)[T.16.0]  C(educ)[T.17.0]  ...  \\\n",
              "0                 0.0              0.0              0.0              1.0  ...   \n",
              "1                 0.0              1.0              0.0              0.0  ...   \n",
              "2                 0.0              0.0              1.0              0.0  ...   \n",
              "3                 0.0              0.0              1.0              0.0  ...   \n",
              "4                 0.0              1.0              0.0              0.0  ...   \n",
              "...               ...              ...              ...              ...  ...   \n",
              "6361              0.0              0.0              0.0              1.0  ...   \n",
              "6362              0.0              0.0              1.0              0.0  ...   \n",
              "6363              0.0              1.0              0.0              0.0  ...   \n",
              "6364              0.0              1.0              0.0              0.0  ...   \n",
              "6365              0.0              0.0              1.0              0.0  ...   \n",
              "\n",
              "      C(rate_marriage)[T.2.0]  C(rate_marriage)[T.3.0]  \\\n",
              "0                         0.0                      1.0   \n",
              "1                         0.0                      1.0   \n",
              "2                         0.0                      0.0   \n",
              "3                         0.0                      0.0   \n",
              "4                         0.0                      0.0   \n",
              "...                       ...                      ...   \n",
              "6361                      0.0                      0.0   \n",
              "6362                      0.0                      0.0   \n",
              "6363                      0.0                      0.0   \n",
              "6364                      0.0                      0.0   \n",
              "6365                      0.0                      0.0   \n",
              "\n",
              "      C(rate_marriage)[T.4.0]  C(rate_marriage)[T.5.0]  C(religious)[T.2.0]  \\\n",
              "0                         0.0                      0.0                  0.0   \n",
              "1                         0.0                      0.0                  0.0   \n",
              "2                         1.0                      0.0                  0.0   \n",
              "3                         1.0                      0.0                  0.0   \n",
              "4                         0.0                      1.0                  0.0   \n",
              "...                       ...                      ...                  ...   \n",
              "6361                      0.0                      1.0                  0.0   \n",
              "6362                      1.0                      0.0                  0.0   \n",
              "6363                      0.0                      1.0                  1.0   \n",
              "6364                      0.0                      1.0                  0.0   \n",
              "6365                      1.0                      0.0                  1.0   \n",
              "\n",
              "      C(religious)[T.3.0]  C(religious)[T.4.0]   age  yrs_married  children  \n",
              "0                     1.0                  0.0  32.0          9.0       3.0  \n",
              "1                     0.0                  0.0  27.0         13.0       3.0  \n",
              "2                     0.0                  0.0  22.0          2.5       0.0  \n",
              "3                     1.0                  0.0  37.0         16.5       4.0  \n",
              "4                     0.0                  0.0  27.0          9.0       1.0  \n",
              "...                   ...                  ...   ...          ...       ...  \n",
              "6361                  1.0                  0.0  32.0         13.0       2.0  \n",
              "6362                  0.0                  0.0  32.0         13.0       1.0  \n",
              "6363                  0.0                  0.0  22.0          2.5       0.0  \n",
              "6364                  1.0                  0.0  32.0          6.0       1.0  \n",
              "6365                  0.0                  0.0  22.0          2.5       0.0  \n",
              "\n",
              "[6366 rows x 26 columns]"
            ]
          },
          "execution_count": 10,
          "metadata": {},
          "output_type": "execute_result"
        }
      ],
      "source": [
        "X"
      ]
    },
    {
      "cell_type": "markdown",
      "metadata": {
        "id": "SeSTDhU7X8L0"
      },
      "source": [
        "## Creamos conjunto de datos de entrenamiento y prueba"
      ]
    },
    {
      "cell_type": "code",
      "execution_count": null,
      "metadata": {
        "id": "UuRCcoQWX8L0"
      },
      "outputs": [],
      "source": [
        "X_train, X_test, y_train, y_test = train_test_split(X, pd.Series.ravel(y), test_size=0.3, random_state=0)"
      ]
    },
    {
      "cell_type": "markdown",
      "metadata": {
        "id": "-Ue5stKHX8L1"
      },
      "source": [
        "## Regresión logística mediante un enfoque de modelos estadísticos"
      ]
    },
    {
      "cell_type": "code",
      "execution_count": null,
      "metadata": {
        "scrolled": false,
        "id": "X-ZXkbwvX8L1",
        "outputId": "73e9331b-932f-4a71-abfd-c664b98ca287"
      },
      "outputs": [
        {
          "name": "stdout",
          "output_type": "stream",
          "text": [
            "Optimization terminated successfully.\n",
            "         Current function value: 0.540886\n",
            "         Iterations 6\n",
            "                             Results: Logit\n",
            "=========================================================================\n",
            "Model:                 Logit              Pseudo R-squared:   0.142      \n",
            "Dependent Variable:    y                  AIC:                4872.3800  \n",
            "Date:                  2022-04-06 13:41   BIC:                5038.8322  \n",
            "No. Observations:      4456               Log-Likelihood:     -2410.2    \n",
            "Df Model:              25                 LL-Null:            -2808.3    \n",
            "Df Residuals:          4430               LLR p-value:        7.8883e-152\n",
            "Converged:             1.0000             Scale:              1.0000     \n",
            "No. Iterations:        6.0000                                            \n",
            "-------------------------------------------------------------------------\n",
            "                           Coef.  Std.Err.    z    P>|z|   [0.025  0.975]\n",
            "-------------------------------------------------------------------------\n",
            "Intercept                  0.2497   0.8582  0.2910 0.7711 -1.4323  1.9317\n",
            "C(occupation)[T.2.0]       1.0383   0.6556  1.5838 0.1132 -0.2466  2.3231\n",
            "C(occupation)[T.3.0]       1.2665   0.6500  1.9485 0.0514 -0.0075  2.5404\n",
            "C(occupation)[T.4.0]       1.0714   0.6519  1.6436 0.1003 -0.2063  2.3490\n",
            "C(occupation)[T.5.0]       1.6463   0.6555  2.5115 0.0120  0.3615  2.9310\n",
            "C(occupation)[T.6.0]       2.0136   0.7103  2.8348 0.0046  0.6214  3.4058\n",
            "C(educ)[T.12.0]            0.3753   0.4043  0.9281 0.3533 -0.4172  1.1678\n",
            "C(educ)[T.14.0]            0.6273   0.4063  1.5439 0.1226 -0.1690  1.4236\n",
            "C(educ)[T.16.0]            0.3319   0.4164  0.7971 0.4254 -0.4842  1.1481\n",
            "C(educ)[T.17.0]            0.5494   0.4275  1.2852 0.1987 -0.2885  1.3872\n",
            "C(educ)[T.20.0]            0.2733   0.4459  0.6129 0.5400 -0.6007  1.1472\n",
            "C(occupation_husb)[T.2.0]  0.0863   0.2163  0.3990 0.6899 -0.3377  0.5103\n",
            "C(occupation_husb)[T.3.0]  0.2019   0.2367  0.8527 0.3939 -0.2621  0.6659\n",
            "C(occupation_husb)[T.4.0]  0.0396   0.2096  0.1891 0.8500 -0.3711  0.4503\n",
            "C(occupation_husb)[T.5.0]  0.0062   0.2115  0.0292 0.9767 -0.4083  0.4207\n",
            "C(occupation_husb)[T.6.0] -0.0144   0.2383 -0.0605 0.9517 -0.4815  0.4527\n",
            "C(rate_marriage)[T.2.0]   -0.2886   0.3124 -0.9238 0.3556 -0.9008  0.3237\n",
            "C(rate_marriage)[T.3.0]   -0.6063   0.2898 -2.0921 0.0364 -1.1743 -0.0383\n",
            "C(rate_marriage)[T.4.0]   -1.4842   0.2848 -5.2105 0.0000 -2.0424 -0.9259\n",
            "C(rate_marriage)[T.5.0]   -2.2724   0.2861 -7.9430 0.0000 -2.8331 -1.7117\n",
            "C(religious)[T.2.0]       -0.4057   0.1011 -4.0111 0.0001 -0.6039 -0.2075\n",
            "C(religious)[T.3.0]       -0.7049   0.1022 -6.8993 0.0000 -0.9051 -0.5046\n",
            "C(religious)[T.4.0]       -1.3248   0.1589 -8.3388 0.0000 -1.6362 -1.0134\n",
            "age                       -0.0583   0.0124 -4.7174 0.0000 -0.0826 -0.0341\n",
            "yrs_married                0.1105   0.0132  8.3710 0.0000  0.0847  0.1364\n",
            "children                  -0.0146   0.0385 -0.3808 0.7033 -0.0900  0.0607\n",
            "=========================================================================\n",
            "\n"
          ]
        }
      ],
      "source": [
        "logit_model=sm.Logit(y_train,X_train)\n",
        "result=logit_model.fit(method='newton')\n",
        "print(result.summary2())"
      ]
    },
    {
      "cell_type": "code",
      "execution_count": null,
      "metadata": {
        "id": "LCBbTkO6X8L1",
        "outputId": "27a4be24-f98c-497f-b94b-97544c8b649d"
      },
      "outputs": [
        {
          "name": "stdout",
          "output_type": "stream",
          "text": [
            "[[1156  147]\n",
            " [ 369  238]]\n"
          ]
        }
      ],
      "source": [
        "y_pred1 = result.predict(X_test)\n",
        "y_pred1 = [0 if x < 0.5 else 1 for x in y_pred1]\n",
        "\n",
        "confusion_matrix = metrics.confusion_matrix(y_test, y_pred1)\n",
        "print(confusion_matrix)"
      ]
    },
    {
      "cell_type": "markdown",
      "metadata": {
        "id": "UqHgaJixX8L1"
      },
      "source": [
        "# Métricas de evaluación.\n",
        "\n",
        "## Clasificación binaria"
      ]
    },
    {
      "cell_type": "markdown",
      "metadata": {
        "id": "HM9Hin4hX8L2"
      },
      "source": [
        "La Exactitud (Accuracy) es simplemente la proporción de datos clasificados correctamente. \n",
        "\n",
        "\\begin{align*}\n",
        "    Accuracy = \\frac{VP+VN}{TOTAL} \n",
        "\\end{align*}\n",
        "\n",
        "donde $VP$ es el número de predicciones positivas correctamente clasificadas, $VN$ es el número de predicciones negativas correctamente clasificadas y $TOTAL$ es el número total de casos u observaciones.\n",
        "\n",
        "Es la primera métrica que se comprueba al evaluar un clasificador; sin embargo, si los datos están desbalanceados o si se está más interesado detectar una de las clases, la Exactitud no captura realmente la eficacia de un clasificador."
      ]
    },
    {
      "cell_type": "markdown",
      "metadata": {
        "id": "Lih6APE2X8L2"
      },
      "source": [
        "La precisión (Precision) nos ayuda a cuantificar la fracción de positivos verdaderos entre el total de los clasificados como positivos. Se utiliza principalmente para medir qué tan efectivo es el modelo en detectar la categoría de interés, es decir, la categoría positiva.\n",
        "\n",
        "\\begin{align*}\n",
        "  Precision = \\frac{VP}{VP+FP} \n",
        "\\end{align*}\n",
        "\n",
        "donde $FP$ es el número de predicciones positivas calificadas incorrectamente (falsos positivos). \n",
        "\\end{frame}"
      ]
    },
    {
      "cell_type": "markdown",
      "metadata": {
        "id": "kGGWJTsxX8L2"
      },
      "source": [
        "La recuperación (Recall) mide cuántos positivos verdaderos se predijeron como positivos. \n",
        "\n",
        "\\begin{align*}\n",
        "    Recall = \\frac{VP}{VP+FN} \n",
        "\\end{align*}\n",
        "\n",
        "donde $FN$ es el número de predicciones negativas calificadas incorrectamente.\n",
        "\n",
        "Observa que mientras más cercano a 1 se encuentre el recall, más datos de la categoría real fueron bien clasificados. "
      ]
    },
    {
      "cell_type": "markdown",
      "metadata": {
        "id": "QzP04DDCX8L2"
      },
      "source": [
        "La medida F1 (F1 score) es la media armónica de la precisión y la recuperación (Recall). Esta medida es una buena forma de resumir la evaluación en un número único.\n",
        "\n",
        "\\begin{align*}\n",
        "    F1 = 2\\cdot \\frac{precision \\cdot recall}{precision + recall}\n",
        "\\end{align*}\n",
        "\n",
        "Existe una relación entre la precisión y el recall: un modelo que predice todo como positivo tendrá un recall de 1, pero una precisión muy baja pues tendría muchos falsos positivos, mientras que un modelo que solo predijera un positivo y el resto negativos tendría un recall muy bajo, pero una precisión muy alta. \n",
        "\n",
        "Es por ello que se recurre a la medida F1, ya que mitiga el impacto de las tasas altas y acentúa el de las tasas bajas."
      ]
    },
    {
      "cell_type": "markdown",
      "metadata": {
        "id": "K4zbhpDrX8L2"
      },
      "source": [
        "**Ponderación para clasificación multiclase**\n",
        "\n",
        "- macro: this is a simple arithmetic mean of all metrics across classes. This technique gives equal weights to all classes making it a good option for balanced classification tasks.\n",
        "- weighted: accounts for class imbalance by computing the average of binary metrics weighted by the number of samples of each class in the target. If 3 (precision scores) for 3 classes are: Class 1 (0.85), class 2 (0.80), and class 3 (0.89), the weighted average will be calculated by multiplying each score by the number of occurrences of each class and dividing by the total number of samples.\n",
        "- micro: this is the same as accuracy. Micro-averaging is found by dividing the sum of the diagonal cells of the matrix by the sum of all the cells — i.e., accuracy. As accuracy is such a misleading metric, this averaging technique is rarely used."
      ]
    },
    {
      "cell_type": "code",
      "execution_count": null,
      "metadata": {
        "id": "HRoN_wcGX8L3",
        "outputId": "d3d20789-976c-49d6-cd66-bb28c2dee65f"
      },
      "outputs": [
        {
          "name": "stdout",
          "output_type": "stream",
          "text": [
            "              precision    recall  f1-score   support\n",
            "\n",
            "         0.0       0.76      0.89      0.82      1303\n",
            "         1.0       0.62      0.39      0.48       607\n",
            "\n",
            "    accuracy                           0.73      1910\n",
            "   macro avg       0.69      0.64      0.65      1910\n",
            "weighted avg       0.71      0.73      0.71      1910\n",
            "\n"
          ]
        }
      ],
      "source": [
        "print(metrics.classification_report(y_test, y_pred1))"
      ]
    },
    {
      "cell_type": "markdown",
      "metadata": {
        "id": "uVuo-uChX8L3"
      },
      "source": [
        "## Usando `sklearn`"
      ]
    },
    {
      "cell_type": "code",
      "execution_count": null,
      "metadata": {
        "id": "PiDfNr9iX8L3",
        "outputId": "445fa4f1-7026-4abd-ddd1-d593b219c48f"
      },
      "outputs": [
        {
          "data": {
            "text/plain": [
              "LogisticRegression(C=1000000000.0, solver='newton-cg')"
            ]
          },
          "execution_count": 16,
          "metadata": {},
          "output_type": "execute_result"
        }
      ],
      "source": [
        "logreg = LogisticRegression(solver='newton-cg', C = 1e9)\n",
        "logreg.fit(X_train, y_train)"
      ]
    },
    {
      "cell_type": "code",
      "execution_count": null,
      "metadata": {
        "id": "_e4QClj4X8L3",
        "outputId": "919b742d-74c1-40a9-c898-6f64c4380adb"
      },
      "outputs": [
        {
          "name": "stdout",
          "output_type": "stream",
          "text": [
            "Accuracy of logistic regression classifier on test set: 0.73\n"
          ]
        }
      ],
      "source": [
        "y_pred = logreg.predict(X_test)\n",
        "print('Accuracy of logistic regression classifier on test set: {:.2f}'.format(logreg.score(X_test, y_test)))"
      ]
    },
    {
      "cell_type": "code",
      "execution_count": null,
      "metadata": {
        "id": "GOwjefbUX8L4",
        "outputId": "15020d97-f9df-4311-8dd2-87d3502042b1"
      },
      "outputs": [
        {
          "name": "stdout",
          "output_type": "stream",
          "text": [
            "[[1156  147]\n",
            " [ 369  238]]\n"
          ]
        }
      ],
      "source": [
        "y_pred2 = logreg.predict(X_test)\n",
        "confusion_matrix = metrics.confusion_matrix(y_test, y_pred2)\n",
        "print(confusion_matrix)"
      ]
    },
    {
      "cell_type": "code",
      "execution_count": null,
      "metadata": {
        "id": "nuhC3BVHX8L4",
        "outputId": "7284af51-8147-466b-ffdc-340bef58ed93"
      },
      "outputs": [
        {
          "name": "stdout",
          "output_type": "stream",
          "text": [
            "              precision    recall  f1-score   support\n",
            "\n",
            "         0.0       0.76      0.89      0.82      1303\n",
            "         1.0       0.62      0.39      0.48       607\n",
            "\n",
            "    accuracy                           0.73      1910\n",
            "   macro avg       0.69      0.64      0.65      1910\n",
            "weighted avg       0.71      0.73      0.71      1910\n",
            "\n"
          ]
        }
      ],
      "source": [
        "print(metrics.classification_report(y_test, y_pred2))"
      ]
    },
    {
      "cell_type": "code",
      "execution_count": null,
      "metadata": {
        "id": "eD3QaSg_X8L4",
        "outputId": "76e1f0c1-ea3f-433f-a704-644152be467e"
      },
      "outputs": [
        {
          "data": {
            "image/png": "[encoded data removed]",
            "text/plain": [
              "<Figure size 576x432 with 2 Axes>"
            ]
          },
          "metadata": {},
          "output_type": "display_data"
        }
      ],
      "source": [
        "plt.rcParams['figure.figsize'] = (8, 6)\n",
        "disp1 = metrics.plot_confusion_matrix(logreg, X_test, y_test, cmap=plt.cm.Blues)\n",
        "disp1.ax_.set_title('Matriz de confusion. Sin normalizar',{'fontsize':15})\n",
        "plt.show()"
      ]
    },
    {
      "cell_type": "code",
      "execution_count": null,
      "metadata": {
        "id": "n6mnCQqcX8L4",
        "outputId": "7c75fba8-1259-4ccf-ee68-0bf5b86aedd1"
      },
      "outputs": [
        {
          "data": {
            "text/plain": [
              "array([[ 0.1249,  1.0383,  1.2665,  1.0714,  1.6463,  2.0136,  0.3753,\n",
              "         0.6273,  0.3319,  0.5494,  0.2733,  0.0863,  0.2019,  0.0396,\n",
              "         0.0062, -0.0144, -0.2886, -0.6063, -1.4842, -2.2724, -0.4057,\n",
              "        -0.7049, -1.3248, -0.0583,  0.1105, -0.0146]])"
            ]
          },
          "execution_count": 27,
          "metadata": {},
          "output_type": "execute_result"
        }
      ],
      "source": [
        "np.round(logreg.coef_,4)"
      ]
    },
    {
      "cell_type": "markdown",
      "metadata": {
        "id": "fmZTU5j5X8L4"
      },
      "source": [
        "# El tipo de enfoque que estaremos viendo nosotros..."
      ]
    },
    {
      "cell_type": "code",
      "execution_count": null,
      "metadata": {
        "id": "mfT6I65xX8L5"
      },
      "outputs": [],
      "source": [
        "# Authors: Tom Dupre la Tour <tom.dupre-la-tour@m4x.org>\n",
        "# License: BSD 3 clause\n",
        "\n",
        "from sklearn.datasets import make_blobs\n",
        "from sklearn.linear_model import LogisticRegression\n",
        "\n",
        "# make 3-class dataset for classification\n",
        "centers = [[-5, 0], [0, 1.5], [5, -1]]\n",
        "X, y = make_blobs(n_samples=1000, centers=centers, random_state=40)\n",
        "transformation = [[0.4, 0.2], [-0.4, 1.2]]\n",
        "X = np.dot(X, transformation)\n",
        "\n",
        "for multi_class in ('multinomial', 'ovr'):\n",
        "    clf = LogisticRegression(solver='sag', max_iter=100, random_state=42,\n",
        "                             multi_class=multi_class).fit(X, y)\n",
        "\n",
        "    # print the training scores\n",
        "    print(\"training score : %.3f (%s)\" % (clf.score(X, y), multi_class))\n",
        "\n",
        "    # create a mesh to plot in\n",
        "    h = .02  # step size in the mesh\n",
        "    x_min, x_max = X[:, 0].min() - 1, X[:, 0].max() + 1\n",
        "    y_min, y_max = X[:, 1].min() - 1, X[:, 1].max() + 1\n",
        "    xx, yy = np.meshgrid(np.arange(x_min, x_max, h),\n",
        "                         np.arange(y_min, y_max, h))\n",
        "\n",
        "    # Plot the decision boundary. For that, we will assign a color to each\n",
        "    # point in the mesh [x_min, x_max]x[y_min, y_max].\n",
        "    Z = clf.predict(np.c_[xx.ravel(), yy.ravel()])\n",
        "    # Put the result into a color plot\n",
        "    Z = Z.reshape(xx.shape)\n",
        "    plt.figure()\n",
        "    plt.contourf(xx, yy, Z, cmap=plt.cm.Paired)\n",
        "    plt.title(\"Decision surface of LogisticRegression (%s)\" % multi_class)\n",
        "    plt.axis('tight')\n",
        "\n",
        "    # Plot also the training points\n",
        "    colors = \"bry\"\n",
        "    for i, color in zip(clf.classes_, colors):\n",
        "        idx = np.where(y == i)\n",
        "        plt.scatter(X[idx, 0], X[idx, 1], c=color, cmap=plt.cm.Paired,\n",
        "                    edgecolor='black', s=20)\n",
        "\n",
        "    # Plot the three one-against-all classifiers\n",
        "    xmin, xmax = plt.xlim()\n",
        "    ymin, ymax = plt.ylim()\n",
        "    coef = clf.coef_\n",
        "    intercept = clf.intercept_\n",
        "\n",
        "    def plot_hyperplane(c, color):\n",
        "        def line(x0):\n",
        "            return (-(x0 * coef[c, 0]) - intercept[c]) / coef[c, 1]\n",
        "        plt.plot([xmin, xmax], [line(xmin), line(xmax)],\n",
        "                 ls=\"--\", color=color)\n",
        "\n",
        "    for i, color in zip(clf.classes_, colors):\n",
        "        plot_hyperplane(i, color)"
      ]
    },
    {
      "cell_type": "code",
      "execution_count": null,
      "metadata": {
        "id": "-6EovqpJX8L5",
        "outputId": "be45f838-0f50-41a7-d212-90b4de1b197e"
      },
      "outputs": [
        {
          "name": "stdout",
          "output_type": "stream",
          "text": [
            "training score : 0.995 (multinomial)\n",
            "training score : 0.976 (ovr)\n"
          ]
        },
        {
          "data": {
            "image/png": "[encoded data removed]",
            "text/plain": [
              "<Figure size 576x396 with 1 Axes>"
            ]
          },
          "metadata": {},
          "output_type": "display_data"
        },
        {
          "data": {
            "image/png": "[encoded data removed]",
            "text/plain": [
              "<Figure size 576x396 with 1 Axes>"
            ]
          },
          "metadata": {},
          "output_type": "display_data"
        }
      ],
      "source": [
        "plt.show()"
      ]
    }
  ],
  "metadata": {
    "celltoolbar": "Slideshow",
    "kernelspec": {
      "display_name": "Python 3 (ipykernel)",
      "language": "python",
      "name": "python3"
    },
    "language_info": {
      "codemirror_mode": {
        "name": "ipython",
        "version": 3
      },
      "file_extension": ".py",
      "mimetype": "text/x-python",
      "name": "python",
      "nbconvert_exporter": "python",
      "pygments_lexer": "ipython3",
      "version": "3.8.10"
    },
    "latex_envs": {
      "LaTeX_envs_menu_present": true,
      "autoclose": true,
      "autocomplete": true,
      "bibliofile": "biblio.bib",
      "cite_by": "apalike",
      "current_citInitial": 1,
      "eqLabelWithNumbers": true,
      "eqNumInitial": 1,
      "hotkeys": {
        "equation": "Ctrl-E",
        "itemize": "Ctrl-I"
      },
      "labels_anchors": false,
      "latex_user_defs": false,
      "report_style_numbering": false,
      "user_envs_cfg": false
    },
    "toc": {
      "base_numbering": 1,
      "nav_menu": {},
      "number_sections": false,
      "sideBar": true,
      "skip_h1_title": false,
      "title_cell": "Table of Contents",
      "title_sidebar": "Contents",
      "toc_cell": false,
      "toc_position": {},
      "toc_section_display": true,
      "toc_window_display": false
    },
    "colab": {
      "name": "12-log_reg.ipynb",
      "provenance": [],
      "include_colab_link": true
    }
  },
  "nbformat": 4,
  "nbformat_minor": 0
}